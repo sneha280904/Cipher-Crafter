{
 "cells": [
  {
   "cell_type": "markdown",
   "id": "138f1b8a",
   "metadata": {},
   "source": [
    "Secret Code Generator"
   ]
  },
  {
   "cell_type": "code",
   "execution_count": null,
   "id": "9510dddb",
   "metadata": {},
   "outputs": [
    {
     "name": "stdout",
     "output_type": "stream",
     "text": [
      "Welcome to the Secret Code Generator!\n",
      "\n",
      "Please choose an option:\n",
      "1. Encode a message\n",
      "2. Decode a message\n",
      "3. Exit\n"
     ]
    }
   ],
   "source": [
    "def encode_message(message, shift):\n",
    "    \"\"\"Encodes a message using a Caesar cipher with the specified shift.\"\"\"\n",
    "    encoded_message = \"\"\n",
    "    for char in message:\n",
    "        if char.isalpha():  # Check if character is a letter\n",
    "            shift_amount = shift % 26  # Ensure shift wraps around the alphabet\n",
    "            if char.isupper():\n",
    "                # Shift uppercase letters\n",
    "                encoded_char = chr((ord(char) - 65 + shift_amount) % 26 + 65)\n",
    "            else:\n",
    "                # Shift lowercase letters\n",
    "                encoded_char = chr((ord(char) - 97 + shift_amount) % 26 + 97)\n",
    "            encoded_message += encoded_char\n",
    "        else:\n",
    "            # Ignore non-letter characters\n",
    "            encoded_message += char\n",
    "    return encoded_message\n",
    "\n",
    "\n",
    "def decode_message(encoded_message, shift):\n",
    "    \"\"\"Decodes a message using a Caesar cipher with the specified shift.\"\"\"\n",
    "    return encode_message(encoded_message, -shift)  # Decoding is just encoding with a negative shift\n",
    "\n",
    "\n",
    "def user_menu():\n",
    "    \"\"\"Displays a menu for user interaction.\"\"\"\n",
    "    print(\"Welcome to the Secret Code Generator!\")\n",
    "    while True:\n",
    "        print(\"\\nPlease choose an option:\")\n",
    "        print(\"1. Encode a message\")\n",
    "        print(\"2. Decode a message\")\n",
    "        print(\"3. Exit\")\n",
    "        \n",
    "        choice = input(\"Enter your choice (1, 2, or 3): \")\n",
    "        \n",
    "        if choice == '1':\n",
    "            message = input(\"Enter the message to encode: \")\n",
    "            shift = int(input(\"Enter the shift number: \"))\n",
    "            encoded = encode_message(message, shift)\n",
    "            print(f\"Encoded Message: {encoded}\")\n",
    "        \n",
    "        elif choice == '2':\n",
    "            encoded_message = input(\"Enter the message to decode: \")\n",
    "            shift = int(input(\"Enter the shift number: \"))\n",
    "            decoded = decode_message(encoded_message, shift)\n",
    "            print(f\"Decoded Message: {decoded}\")\n",
    "        \n",
    "        elif choice == '3':\n",
    "            print(\"Exiting the program. Goodbye!\")\n",
    "            break\n",
    "        \n",
    "        else:\n",
    "            print(\"Invalid choice. Please enter 1, 2, or 3.\")\n",
    "\n",
    "\n",
    "# Run the program\n",
    "if __name__ == \"__main__\":\n",
    "    user_menu()\n"
   ]
  }
 ],
 "metadata": {
  "language_info": {
   "name": "python"
  }
 },
 "nbformat": 4,
 "nbformat_minor": 5
}
